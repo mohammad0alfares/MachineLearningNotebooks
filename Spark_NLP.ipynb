{
  "nbformat": 4,
  "nbformat_minor": 0,
  "metadata": {
    "colab": {
      "name": "quick_start_google_colab.ipynb",
      "provenance": [],
      "collapsed_sections": [],
      "include_colab_link": true
    },
    "kernelspec": {
      "display_name": "Python 3",
      "language": "python",
      "name": "python3"
    },
    "language_info": {
      "codemirror_mode": {
        "name": "ipython",
        "version": 3
      },
      "file_extension": ".py",
      "mimetype": "text/x-python",
      "name": "python",
      "nbconvert_exporter": "python",
      "pygments_lexer": "ipython3",
      "version": "3.6.9"
    }
  },
  "cells": [
    {
      "cell_type": "markdown",
      "metadata": {
        "id": "view-in-github",
        "colab_type": "text"
      },
      "source": [
        "<a href=\"https://colab.research.google.com/github/mohammad0alfares/MachineLearningNotebooks/blob/master/Spark_NLP.ipynb\" target=\"_parent\"><img src=\"https://colab.research.google.com/assets/colab-badge.svg\" alt=\"Open In Colab\"/></a>"
      ]
    },
    {
      "cell_type": "markdown",
      "metadata": {
        "colab_type": "text",
        "id": "aaVmDt1TEXdh"
      },
      "source": [
        "# Spark NLP\n"
      ]
    },
    {
      "cell_type": "markdown",
      "metadata": {
        "colab_type": "text",
        "id": "YkbpOBs6DasA"
      },
      "source": [
        "[![Open In Colab](https://colab.research.google.com/assets/colab-badge.svg)](https://colab.research.google.com/github/JohnSnowLabs/spark-nlp-workshop/blob/master/jupyter/quick_start_google_colab.ipynb)"
      ]
    },
    {
      "cell_type": "markdown",
      "metadata": {
        "colab_type": "text",
        "id": "XtCa0sZ8EXdj"
      },
      "source": [
        "The idea is to use Spark NLP ( https://github.com/JohnSnowLabs/spark-nlp ) to extract relationships between entities and their Part of Speech tags.\n",
        "1.\tFollow the instructions to install Spark NLP, either using Python 3 (Jupyter Notebook) or Scala 2.11. \n",
        "\n",
        "2.\tRead the given dataset using Spark\n",
        "\n",
        "3.\tCreate a Spark ML Pipeline using the following annotators (Use English pretrained models):\n",
        "a.\tDocumentAssembler\n",
        "b.\tTokenizer\n",
        "c.\tWordEmbeddingsModel (Word Embeddings, Glove)\n",
        "d.\tPerceptronModel (Part of Speech)\n",
        "e.\tNerCrfModel (Named Entity Recognition)\n",
        "\n",
        "4.\tPrint the transformed DataFrame showing only the POS column and the NER column. BONUS: Show only the result attribute of these Annotations\n",
        "\n",
        "5.\tCollect the result attribute of NER and POS, find a way to explain any relationship (if exists) between found entities and their part of speech attributes. \n",
        "\n",
        "Note: An Annotation column is an Array of Annotation objects. Annotation objects have the following scheme:\n",
        "Annotation(annotatorType, begin, end, result, metadata, embeddings, sentenceEmbeddings)\n",
        "More documentation here: https://nlp.johnsnowlabs.com/docs/en/annotators and examples can be found here: https://github.com/JohnSnowLabs/spark-nlp-workshop \n",
        "\n",
        "Basic Imports:\n",
        "\n",
        "from sparknlp.base import *\n",
        "\n",
        "from sparknlp.annotator import *\n",
        "\n",
        "from sparknlp.embeddings import *\n",
        "\n"
      ]
    },
    {
      "cell_type": "code",
      "metadata": {
        "colab_type": "code",
        "id": "tyMMD_upEfIa",
        "colab": {
          "base_uri": "https://localhost:8080/",
          "height": 462
        },
        "outputId": "1886a3ff-3cab-45b9-f32b-3107572596e1"
      },
      "source": [
        "import os\n",
        "\n",
        "# Install java\n",
        "! apt-get update -qq\n",
        "! apt-get install -y openjdk-8-jdk-headless -qq > /dev/null\n",
        "\n",
        "os.environ[\"JAVA_HOME\"] = \"/usr/lib/jvm/java-8-openjdk-amd64\"\n",
        "os.environ[\"PATH\"] = os.environ[\"JAVA_HOME\"] + \"/bin:\" + os.environ[\"PATH\"]\n",
        "! java -version\n",
        "\n",
        "# Install pyspark\n",
        "! pip install --ignore-installed pyspark==2.4.4\n",
        "\n",
        "# Install Spark NLP\n",
        "! pip install --ignore-installed spark-nlp\n",
        "\n",
        "# Install Spark NLP\n",
        "! pip install --ignore-installed johnsnowlabs\n"
      ],
      "execution_count": 1,
      "outputs": [
        {
          "output_type": "stream",
          "text": [
            "openjdk version \"1.8.0_265\"\n",
            "OpenJDK Runtime Environment (build 1.8.0_265-8u265-b01-0ubuntu2~18.04-b01)\n",
            "OpenJDK 64-Bit Server VM (build 25.265-b01, mixed mode)\n",
            "Collecting pyspark==2.4.4\n",
            "\u001b[?25l  Downloading https://files.pythonhosted.org/packages/87/21/f05c186f4ddb01d15d0ddc36ef4b7e3cedbeb6412274a41f26b55a650ee5/pyspark-2.4.4.tar.gz (215.7MB)\n",
            "\u001b[K     |████████████████████████████████| 215.7MB 57kB/s \n",
            "\u001b[?25hCollecting py4j==0.10.7\n",
            "\u001b[?25l  Downloading https://files.pythonhosted.org/packages/e3/53/c737818eb9a7dc32a7cd4f1396e787bd94200c3997c72c1dbe028587bd76/py4j-0.10.7-py2.py3-none-any.whl (197kB)\n",
            "\u001b[K     |████████████████████████████████| 204kB 42.8MB/s \n",
            "\u001b[?25hBuilding wheels for collected packages: pyspark\n",
            "  Building wheel for pyspark (setup.py) ... \u001b[?25l\u001b[?25hdone\n",
            "  Created wheel for pyspark: filename=pyspark-2.4.4-py2.py3-none-any.whl size=216130388 sha256=9aa341e03256b1f7d7fb29a4883e061ef3e9a3e2cd0105108bd04a32c16eaf9e\n",
            "  Stored in directory: /root/.cache/pip/wheels/ab/09/4d/0d184230058e654eb1b04467dbc1292f00eaa186544604b471\n",
            "Successfully built pyspark\n",
            "Installing collected packages: py4j, pyspark\n",
            "Successfully installed py4j-0.10.7 pyspark-2.4.4\n",
            "Collecting spark-nlp\n",
            "\u001b[?25l  Downloading https://files.pythonhosted.org/packages/b5/a2/5c2e18a65784442ded6f6c58af175ca4d99649337de569fac55b04d7ed8e/spark_nlp-2.5.5-py2.py3-none-any.whl (124kB)\n",
            "\u001b[K     |████████████████████████████████| 133kB 2.8MB/s \n",
            "\u001b[?25hInstalling collected packages: spark-nlp\n",
            "Successfully installed spark-nlp-2.5.5\n",
            "Collecting johnsnowlabs\n",
            "  Downloading https://files.pythonhosted.org/packages/bd/37/7f43644675194dd380792834e542bde61341a3d90392d8fc1253c3fd4679/johnsnowlabs-0.0.1-py3-none-any.whl\n",
            "Installing collected packages: johnsnowlabs\n",
            "Successfully installed johnsnowlabs-0.0.1\n"
          ],
          "name": "stdout"
        }
      ]
    },
    {
      "cell_type": "code",
      "metadata": {
        "colab_type": "code",
        "id": "5in-TmzGEXdk",
        "colab": {
          "base_uri": "https://localhost:8080/",
          "height": 69
        },
        "outputId": "1de877b6-df3b-43ab-da2b-5c059790206d"
      },
      "source": [
        "import sparknlp\n",
        "spark = sparknlp.start()\n",
        "\n",
        "print(\"Spark NLP version\")\n",
        "sparknlp.version()\n",
        "print(\"Apache Spark version\")\n",
        "spark.version"
      ],
      "execution_count": 14,
      "outputs": [
        {
          "output_type": "stream",
          "text": [
            "Spark NLP version\n",
            "Apache Spark version\n"
          ],
          "name": "stdout"
        },
        {
          "output_type": "execute_result",
          "data": {
            "application/vnd.google.colaboratory.intrinsic+json": {
              "type": "string"
            },
            "text/plain": [
              "'2.4.4'"
            ]
          },
          "metadata": {
            "tags": []
          },
          "execution_count": 14
        }
      ]
    },
    {
      "cell_type": "code",
      "metadata": {
        "id": "r8HxpVVaimNI",
        "colab_type": "code",
        "colab": {
          "base_uri": "https://localhost:8080/",
          "height": 153
        },
        "outputId": "1cc7618f-d843-4880-eac9-65c4bc6f04d7"
      },
      "source": [
        "!rm -rf ./spark-demos\n",
        "!git clone https://github.com/hamed-abdelhaq/spark-demos.git"
      ],
      "execution_count": 3,
      "outputs": [
        {
          "output_type": "stream",
          "text": [
            "Cloning into 'spark-demos'...\n",
            "remote: Enumerating objects: 106, done.\u001b[K\n",
            "remote: Counting objects:   0% (1/106)\u001b[K\rremote: Counting objects:   1% (2/106)\u001b[K\rremote: Counting objects:   2% (3/106)\u001b[K\rremote: Counting objects:   3% (4/106)\u001b[K\rremote: Counting objects:   4% (5/106)\u001b[K\rremote: Counting objects:   5% (6/106)\u001b[K\rremote: Counting objects:   6% (7/106)\u001b[K\rremote: Counting objects:   7% (8/106)\u001b[K\rremote: Counting objects:   8% (9/106)\u001b[K\rremote: Counting objects:   9% (10/106)\u001b[K\rremote: Counting objects:  10% (11/106)\u001b[K\rremote: Counting objects:  11% (12/106)\u001b[K\rremote: Counting objects:  12% (13/106)\u001b[K\rremote: Counting objects:  13% (14/106)\u001b[K\rremote: Counting objects:  14% (15/106)\u001b[K\rremote: Counting objects:  15% (16/106)\u001b[K\rremote: Counting objects:  16% (17/106)\u001b[K\rremote: Counting objects:  17% (19/106)\u001b[K\rremote: Counting objects:  18% (20/106)\u001b[K\rremote: Counting objects:  19% (21/106)\u001b[K\rremote: Counting objects:  20% (22/106)\u001b[K\rremote: Counting objects:  21% (23/106)\u001b[K\rremote: Counting objects:  22% (24/106)\u001b[K\rremote: Counting objects:  23% (25/106)\u001b[K\rremote: Counting objects:  24% (26/106)\u001b[K\rremote: Counting objects:  25% (27/106)\u001b[K\rremote: Counting objects:  26% (28/106)\u001b[K\rremote: Counting objects:  27% (29/106)\u001b[K\rremote: Counting objects:  28% (30/106)\u001b[K\rremote: Counting objects:  29% (31/106)\u001b[K\rremote: Counting objects:  30% (32/106)\u001b[K\rremote: Counting objects:  31% (33/106)\u001b[K\rremote: Counting objects:  32% (34/106)\u001b[K\rremote: Counting objects:  33% (35/106)\u001b[K\rremote: Counting objects:  34% (37/106)\u001b[K\rremote: Counting objects:  35% (38/106)\u001b[K\rremote: Counting objects:  36% (39/106)\u001b[K\rremote: Counting objects:  37% (40/106)\u001b[K\rremote: Counting objects:  38% (41/106)\u001b[K\rremote: Counting objects:  39% (42/106)\u001b[K\rremote: Counting objects:  40% (43/106)\u001b[K\rremote: Counting objects:  41% (44/106)\u001b[K\rremote: Counting objects:  42% (45/106)\u001b[K\rremote: Counting objects:  43% (46/106)\u001b[K\rremote: Counting objects:  44% (47/106)\u001b[K\rremote: Counting objects:  45% (48/106)\u001b[K\rremote: Counting objects:  46% (49/106)\u001b[K\rremote: Counting objects:  47% (50/106)\u001b[K\rremote: Counting objects:  48% (51/106)\u001b[K\rremote: Counting objects:  49% (52/106)\u001b[K\rremote: Counting objects:  50% (53/106)\u001b[K\rremote: Counting objects:  51% (55/106)\u001b[K\rremote: Counting objects:  52% (56/106)\u001b[K\rremote: Counting objects:  53% (57/106)\u001b[K\rremote: Counting objects:  54% (58/106)\u001b[K\rremote: Counting objects:  55% (59/106)\u001b[K\rremote: Counting objects:  56% (60/106)\u001b[K\rremote: Counting objects:  57% (61/106)\u001b[K\rremote: Counting objects:  58% (62/106)\u001b[K\rremote: Counting objects:  59% (63/106)\u001b[K\rremote: Counting objects:  60% (64/106)\u001b[K\rremote: Counting objects:  61% (65/106)\u001b[K\rremote: Counting objects:  62% (66/106)\u001b[K\rremote: Counting objects:  63% (67/106)\u001b[K\rremote: Counting objects:  64% (68/106)\u001b[K\rremote: Counting objects:  65% (69/106)\u001b[K\rremote: Counting objects:  66% (70/106)\u001b[K\rremote: Counting objects:  67% (72/106)\u001b[K\rremote: Counting objects:  68% (73/106)\u001b[K\rremote: Counting objects:  69% (74/106)\u001b[K\rremote: Counting objects:  70% (75/106)\u001b[K\rremote: Counting objects:  71% (76/106)\u001b[K\rremote: Counting objects:  72% (77/106)\u001b[K\rremote: Counting objects:  73% (78/106)\u001b[K\rremote: Counting objects:  74% (79/106)\u001b[K\rremote: Counting objects:  75% (80/106)\u001b[K\rremote: Counting objects:  76% (81/106)\u001b[K\rremote: Counting objects:  77% (82/106)\u001b[K\rremote: Counting objects:  78% (83/106)\u001b[K\rremote: Counting objects:  79% (84/106)\u001b[K\rremote: Counting objects:  80% (85/106)\u001b[K\rremote: Counting objects:  81% (86/106)\u001b[K\rremote: Counting objects:  82% (87/106)\u001b[K\rremote: Counting objects:  83% (88/106)\u001b[K\rremote: Counting objects:  84% (90/106)\u001b[K\rremote: Counting objects:  85% (91/106)\u001b[K\rremote: Counting objects:  86% (92/106)\u001b[K\rremote: Counting objects:  87% (93/106)\u001b[K\rremote: Counting objects:  88% (94/106)\u001b[K\rremote: Counting objects:  89% (95/106)\u001b[K\rremote: Counting objects:  90% (96/106)\u001b[K\rremote: Counting objects:  91% (97/106)\u001b[K\rremote: Counting objects:  92% (98/106)\u001b[K\rremote: Counting objects:  93% (99/106)\u001b[K\rremote: Counting objects:  94% (100/106)\rremote: Counting objects:  95% (101/106)\u001b[K\rremote: Counting objects:  96% (102/106)\u001b[K\rremote: Counting objects:  97% (103/106)\u001b[K\rremote: Counting objects:  98% (104/106)\u001b[K\rremote: Counting objects:  99% (105/106)\u001b[K\rremote: Counting objects: 100% (106/106)\u001b[K\rremote: Counting objects: 100% (106/106), done.\u001b[K\n",
            "remote: Compressing objects: 100% (62/62), done.\u001b[K\n",
            "remote: Total 781 (delta 16), reused 93 (delta 11), pack-reused 675\u001b[K\n",
            "Receiving objects: 100% (781/781), 431.73 MiB | 25.71 MiB/s, done.\n",
            "Resolving deltas: 100% (94/94), done.\n",
            "Checking out files: 100% (528/528), done.\n"
          ],
          "name": "stdout"
        }
      ]
    },
    {
      "cell_type": "code",
      "metadata": {
        "id": "sWHy2p5bnVCg",
        "colab_type": "code",
        "colab": {
          "base_uri": "https://localhost:8080/",
          "height": 238
        },
        "outputId": "0c488bcc-d7ed-4bbf-c072-fa279296038f"
      },
      "source": [
        "!ls ./spark-demos/data/spark_nlp_dataset.parquet"
      ],
      "execution_count": 4,
      "outputs": [
        {
          "output_type": "stream",
          "text": [
            "part-00000-b415d83b-aa0f-4f60-b33c-9c36d8cc6ac0-c000.snappy.parquet\n",
            "part-00001-b415d83b-aa0f-4f60-b33c-9c36d8cc6ac0-c000.snappy.parquet\n",
            "part-00002-b415d83b-aa0f-4f60-b33c-9c36d8cc6ac0-c000.snappy.parquet\n",
            "part-00003-b415d83b-aa0f-4f60-b33c-9c36d8cc6ac0-c000.snappy.parquet\n",
            "part-00004-b415d83b-aa0f-4f60-b33c-9c36d8cc6ac0-c000.snappy.parquet\n",
            "part-00005-b415d83b-aa0f-4f60-b33c-9c36d8cc6ac0-c000.snappy.parquet\n",
            "part-00006-b415d83b-aa0f-4f60-b33c-9c36d8cc6ac0-c000.snappy.parquet\n",
            "part-00007-b415d83b-aa0f-4f60-b33c-9c36d8cc6ac0-c000.snappy.parquet\n",
            "part-00008-b415d83b-aa0f-4f60-b33c-9c36d8cc6ac0-c000.snappy.parquet\n",
            "part-00009-b415d83b-aa0f-4f60-b33c-9c36d8cc6ac0-c000.snappy.parquet\n",
            "part-00010-b415d83b-aa0f-4f60-b33c-9c36d8cc6ac0-c000.snappy.parquet\n",
            "part-00011-b415d83b-aa0f-4f60-b33c-9c36d8cc6ac0-c000.snappy.parquet\n",
            "_SUCCESS\n"
          ],
          "name": "stdout"
        }
      ]
    },
    {
      "cell_type": "code",
      "metadata": {
        "id": "boCIqhxllh6V",
        "colab_type": "code",
        "colab": {}
      },
      "source": [
        "import numpy as np\n",
        "import pandas as pd\n",
        "import pyarrow.parquet as pq\n",
        "\n",
        "path = './spark-demos/data/spark_nlp_dataset.parquet'\n",
        "table = pq.read_table(path)\n",
        "df = table.to_pandas()"
      ],
      "execution_count": 5,
      "outputs": []
    },
    {
      "cell_type": "code",
      "metadata": {
        "id": "DCVMFK0G_MgL",
        "colab_type": "code",
        "colab": {
          "base_uri": "https://localhost:8080/",
          "height": 459
        },
        "outputId": "99863524-5f07-468c-9222-c27aad1e58f2"
      },
      "source": [
        "import pyspark\n",
        "spark_df=spark.createDataFrame(df) \n",
        "spark_df.show()"
      ],
      "execution_count": 6,
      "outputs": [
        {
          "output_type": "stream",
          "text": [
            "+--------------------+\n",
            "|                text|\n",
            "+--------------------+\n",
            "|CRICKET - LEICEST...|\n",
            "|   LONDON 1996-08-30|\n",
            "|West Indian all-r...|\n",
            "|By the close York...|\n",
            "|Australian Tom Mo...|\n",
            "|After the frustra...|\n",
            "|CRICKET - ENGLISH...|\n",
            "|   LONDON 1996-08-30|\n",
            "|Result and close ...|\n",
            "|Somerset 83 and 1...|\n",
            "|Leicestershire 22...|\n",
            "|Chester-le-Street...|\n",
            "|London ( The Oval...|\n",
            "|Portsmouth : Midd...|\n",
            "|Bristol : Glouces...|\n",
            "|CRICKET - 1997 AS...|\n",
            "|a six-test series...|\n",
            "|Australia will al...|\n",
            "|The tourists will...|\n",
            "|as well as one-da...|\n",
            "+--------------------+\n",
            "only showing top 20 rows\n",
            "\n"
          ],
          "name": "stdout"
        }
      ]
    },
    {
      "cell_type": "markdown",
      "metadata": {
        "id": "fMMojVKxa0Vp",
        "colab_type": "text"
      },
      "source": [
        "# Try Pre-trained Model\n"
      ]
    },
    {
      "cell_type": "code",
      "metadata": {
        "id": "hIE1Pxr8HGjS",
        "colab_type": "code",
        "colab": {
          "base_uri": "https://localhost:8080/",
          "height": 119
        },
        "outputId": "d8403900-63e2-4a99-f054-ba118acfef52"
      },
      "source": [
        "# Import Spark NLP            \n",
        "from sparknlp.base import *\n",
        "from sparknlp.annotator import *\n",
        "from sparknlp.pretrained import PretrainedPipeline\n",
        "import sparknlp\n",
        "\n",
        "document = DocumentAssembler()\\\n",
        "    .setInputCol(\"text\")\\\n",
        "    .setOutputCol(\"document\")\n",
        "\n",
        "sentence = SentenceDetector()\\\n",
        "    .setInputCols(['document'])\\\n",
        "    .setOutputCol('sentence')\n",
        "\n",
        "token = Tokenizer()\\\n",
        "    .setInputCols(['sentence'])\\\n",
        "    .setOutputCol('token')\n",
        "\n",
        "bert = BertEmbeddings.pretrained('bert_base_cased', 'en') \\\n",
        " .setInputCols([\"sentence\",'token'])\\\n",
        " .setOutputCol(\"bert\")\\\n",
        " .setCaseSensitive(False)\n",
        "\n",
        "ner_dl = NerDLModel.pretrained('ner_dl')\n",
        "\n",
        "ner_prediction_pipeline = Pipeline(\n",
        "    stages = [\n",
        "        document,\n",
        "        sentence,\n",
        "        token,\n",
        "        bert,\n",
        "        ner_dl])"
      ],
      "execution_count": 19,
      "outputs": [
        {
          "output_type": "stream",
          "text": [
            "bert_base_cased download started this may take some time.\n",
            "Approximate size to download 389.2 MB\n",
            "[OK!]\n",
            "ner_dl download started this may take some time.\n",
            "Approximate size to download 13.6 MB\n",
            "[OK!]\n"
          ],
          "name": "stdout"
        }
      ]
    },
    {
      "cell_type": "code",
      "metadata": {
        "id": "8Y2l6oAInc7G",
        "colab_type": "code",
        "colab": {}
      },
      "source": [
        "result = ner_prediction_pipeline.fit(spark_df)"
      ],
      "execution_count": 39,
      "outputs": []
    },
    {
      "cell_type": "markdown",
      "metadata": {
        "id": "DgGGEaQlYCPD",
        "colab_type": "text"
      },
      "source": [
        "# Try Pre-trained pipeline\n",
        "\n",
        "\n"
      ]
    },
    {
      "cell_type": "code",
      "metadata": {
        "id": "NYYXLAc0H4qI",
        "colab_type": "code",
        "colab": {
          "base_uri": "https://localhost:8080/",
          "height": 68
        },
        "outputId": "57973d11-f35b-4b57-cbc4-30c149941ec4"
      },
      "source": [
        "# Import Spark NLP            \n",
        "from sparknlp.base import *\n",
        "from sparknlp.annotator import *\n",
        "from sparknlp.pretrained import PretrainedPipeline\n",
        "import sparknlp\n",
        "\n",
        "\n",
        "pipeline = PretrainedPipeline('explain_document_dl', lang='en')\n",
        "\n",
        "# Your testing dataset\n",
        "text = \"\"\"\n",
        "The Mona Lisa is a 16th century oil painting created by Leonardo. \n",
        "It's held at the Louvre in Paris.\n",
        "\"\"\"\n",
        "\n",
        "# Annotate your testing dataset\n",
        "result = pipeline.annotate(text)\n"
      ],
      "execution_count": 26,
      "outputs": [
        {
          "output_type": "stream",
          "text": [
            "explain_document_dl download started this may take some time.\n",
            "Approx size to download 168.4 MB\n",
            "[OK!]\n"
          ],
          "name": "stdout"
        }
      ]
    },
    {
      "cell_type": "code",
      "metadata": {
        "id": "siTbUXd2Xzo6",
        "colab_type": "code",
        "colab": {
          "base_uri": "https://localhost:8080/",
          "height": 187
        },
        "outputId": "0ef75abb-9788-4368-e275-121590c2a0fa"
      },
      "source": [
        "# What's in the pipeline\n",
        "list(result.keys())"
      ],
      "execution_count": 27,
      "outputs": [
        {
          "output_type": "execute_result",
          "data": {
            "text/plain": [
              "['entities',\n",
              " 'stem',\n",
              " 'checked',\n",
              " 'lemma',\n",
              " 'document',\n",
              " 'pos',\n",
              " 'token',\n",
              " 'ner',\n",
              " 'embeddings',\n",
              " 'sentence']"
            ]
          },
          "metadata": {
            "tags": []
          },
          "execution_count": 27
        }
      ]
    },
    {
      "cell_type": "code",
      "metadata": {
        "id": "W-AVKowZmPiO",
        "colab_type": "code",
        "colab": {}
      },
      "source": [
        "result = pipeline.transform(spark_df)"
      ],
      "execution_count": 35,
      "outputs": []
    },
    {
      "cell_type": "code",
      "metadata": {
        "id": "WCWd4w55mYpE",
        "colab_type": "code",
        "colab": {
          "base_uri": "https://localhost:8080/",
          "height": 479
        },
        "outputId": "1278592e-7762-46da-9d6f-0967fa538702"
      },
      "source": [
        "result.show()"
      ],
      "execution_count": 37,
      "outputs": [
        {
          "output_type": "stream",
          "text": [
            "+--------------------+--------------------+--------------------+--------------------+--------------------+--------------------+--------------------+--------------------+--------------------+--------------------+--------------------+\n",
            "|                text|            document|            sentence|               token|             checked|               lemma|                stem|                 pos|          embeddings|                 ner|            entities|\n",
            "+--------------------+--------------------+--------------------+--------------------+--------------------+--------------------+--------------------+--------------------+--------------------+--------------------+--------------------+\n",
            "|CRICKET - LEICEST...|[[document, 0, 64...|[[document, 0, 64...|[[token, 0, 6, CR...|[[token, 0, 6, CR...|[[token, 0, 6, CR...|[[token, 0, 6, cr...|[[pos, 0, 6, NNP,...|[[word_embeddings...|[[named_entity, 0...|[[chunk, 10, 23, ...|\n",
            "|   LONDON 1996-08-30|[[document, 0, 16...|[[document, 0, 16...|[[token, 0, 5, LO...|[[token, 0, 5, LO...|[[token, 0, 5, LO...|[[token, 0, 5, lo...|[[pos, 0, 5, NNP,...|[[word_embeddings...|[[named_entity, 0...|[[chunk, 0, 5, LO...|\n",
            "|West Indian all-r...|[[document, 0, 18...|[[document, 0, 18...|[[token, 0, 3, We...|[[token, 0, 3, We...|[[token, 0, 3, We...|[[token, 0, 3, we...|[[pos, 0, 3, NNP,...|[[word_embeddings...|[[named_entity, 0...|[[chunk, 0, 10, W...|\n",
            "|By the close York...|[[document, 0, 20...|[[document, 0, 20...|[[token, 0, 1, By...|[[token, 0, 1, By...|[[token, 0, 1, By...|[[token, 0, 1, by...|[[pos, 0, 1, IN, ...|[[word_embeddings...|[[named_entity, 0...|[[chunk, 13, 21, ...|\n",
            "|Australian Tom Mo...|[[document, 0, 14...|[[document, 0, 14...|[[token, 0, 9, Au...|[[token, 0, 9, Au...|[[token, 0, 9, Au...|[[token, 0, 9, au...|[[pos, 0, 9, JJ, ...|[[word_embeddings...|[[named_entity, 0...|[[chunk, 0, 9, Au...|\n",
            "|After the frustra...|[[document, 0, 15...|[[document, 0, 15...|[[token, 0, 4, Af...|[[token, 0, 4, Af...|[[token, 0, 4, Af...|[[token, 0, 4, af...|[[pos, 0, 4, IN, ...|[[word_embeddings...|[[named_entity, 0...|[[chunk, 95, 98, ...|\n",
            "|CRICKET - ENGLISH...|[[document, 0, 45...|[[document, 0, 45...|[[token, 0, 6, CR...|[[token, 0, 6, CR...|[[token, 0, 6, CR...|[[token, 0, 6, cr...|[[pos, 0, 6, NNP,...|[[word_embeddings...|[[named_entity, 0...|[[chunk, 10, 36, ...|\n",
            "|   LONDON 1996-08-30|[[document, 0, 16...|[[document, 0, 16...|[[token, 0, 5, LO...|[[token, 0, 5, LO...|[[token, 0, 5, LO...|[[token, 0, 5, lo...|[[pos, 0, 5, NNP,...|[[word_embeddings...|[[named_entity, 0...|[[chunk, 0, 5, LO...|\n",
            "|Result and close ...|[[document, 0, 81...|[[document, 0, 81...|[[token, 0, 5, Re...|[[token, 0, 5, re...|[[token, 0, 5, re...|[[token, 0, 5, re...|[[pos, 0, 5, NN, ...|[[word_embeddings...|[[named_entity, 0...|[[chunk, 35, 41, ...|\n",
            "|Somerset 83 and 1...|[[document, 0, 61...|[[document, 0, 61...|[[token, 0, 7, So...|[[token, 0, 7, So...|[[token, 0, 7, So...|[[token, 0, 7, so...|[[pos, 0, 7, NNP,...|[[word_embeddings...|[[named_entity, 0...|[[chunk, 0, 7, So...|\n",
            "|Leicestershire 22...|[[document, 0, 38...|[[document, 0, 38...|[[token, 0, 13, L...|[[token, 0, 13, L...|[[token, 0, 13, L...|[[token, 0, 13, l...|[[pos, 0, 13, NNP...|[[word_embeddings...|[[named_entity, 0...|[[chunk, 0, 13, L...|\n",
            "|Chester-le-Street...|[[document, 0, 13...|[[document, 0, 70...|[[token, 0, 16, C...|[[token, 0, 16, C...|[[token, 0, 16, C...|[[token, 0, 16, c...|[[pos, 0, 16, NNP...|[[word_embeddings...|[[named_entity, 0...|[[chunk, 0, 16, C...|\n",
            "|London ( The Oval...|[[document, 0, 14...|[[document, 0, 14...|[[token, 0, 5, Lo...|[[token, 0, 5, Lo...|[[token, 0, 5, Lo...|[[token, 0, 5, lo...|[[pos, 0, 5, NNP,...|[[word_embeddings...|[[named_entity, 0...|[[chunk, 0, 5, Lo...|\n",
            "|Portsmouth : Midd...|[[document, 0, 11...|[[document, 0, 11...|[[token, 0, 9, Po...|[[token, 0, 9, Po...|[[token, 0, 9, Po...|[[token, 0, 9, po...|[[pos, 0, 9, NNP,...|[[word_embeddings...|[[named_entity, 0...|[[chunk, 0, 9, Po...|\n",
            "|Bristol : Glouces...|[[document, 0, 12...|[[document, 0, 10...|[[token, 0, 6, Br...|[[token, 0, 6, Br...|[[token, 0, 6, Br...|[[token, 0, 6, br...|[[pos, 0, 6, NNP,...|[[word_embeddings...|[[named_entity, 0...|[[chunk, 0, 6, Br...|\n",
            "|CRICKET - 1997 AS...|[[document, 0, 32...|[[document, 0, 32...|[[token, 0, 6, CR...|[[token, 0, 6, CR...|[[token, 0, 6, CR...|[[token, 0, 6, cr...|[[pos, 0, 6, NNP,...|[[word_embeddings...|[[named_entity, 0...|                  []|\n",
            "|a six-test series...|[[document, 0, 57...|[[document, 0, 57...|[[token, 0, 0, a,...|[[token, 0, 0, a,...|[[token, 0, 0, a,...|[[token, 0, 0, a,...|[[pos, 0, 0, DT, ...|[[word_embeddings...|[[named_entity, 0...|[[chunk, 26, 32, ...|\n",
            "|Australia will al...|[[document, 0, 56...|[[document, 0, 56...|[[token, 0, 8, Au...|[[token, 0, 8, Au...|[[token, 0, 8, Au...|[[token, 0, 8, au...|[[pos, 0, 8, NNP,...|[[word_embeddings...|[[named_entity, 0...|[[chunk, 0, 8, Au...|\n",
            "|The tourists will...|[[document, 0, 54...|[[document, 0, 54...|[[token, 0, 2, Th...|[[token, 0, 2, Th...|[[token, 0, 2, Th...|[[token, 0, 2, th...|[[pos, 0, 2, DT, ...|[[word_embeddings...|[[named_entity, 0...|                  []|\n",
            "|as well as one-da...|[[document, 0, 56...|[[document, 0, 56...|[[token, 0, 1, as...|[[token, 0, 1, as...|[[token, 0, 1, as...|[[token, 0, 1, a,...|[[pos, 0, 1, RB, ...|[[word_embeddings...|[[named_entity, 0...|[[chunk, 39, 52, ...|\n",
            "+--------------------+--------------------+--------------------+--------------------+--------------------+--------------------+--------------------+--------------------+--------------------+--------------------+--------------------+\n",
            "only showing top 20 rows\n",
            "\n"
          ],
          "name": "stdout"
        }
      ]
    }
  ]
}