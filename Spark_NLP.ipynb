{
  "nbformat": 4,
  "nbformat_minor": 0,
  "metadata": {
    "colab": {
      "name": "quick_start_google_colab.ipynb",
      "provenance": [],
      "collapsed_sections": [],
      "include_colab_link": true
    },
    "kernelspec": {
      "display_name": "Python 3",
      "language": "python",
      "name": "python3"
    },
    "language_info": {
      "codemirror_mode": {
        "name": "ipython",
        "version": 3
      },
      "file_extension": ".py",
      "mimetype": "text/x-python",
      "name": "python",
      "nbconvert_exporter": "python",
      "pygments_lexer": "ipython3",
      "version": "3.6.9"
    }
  },
  "cells": [
    {
      "cell_type": "markdown",
      "metadata": {
        "id": "view-in-github",
        "colab_type": "text"
      },
      "source": [
        "<a href=\"https://colab.research.google.com/github/mohammad0alfares/MachineLearningNotebooks/blob/master/Spark_NLP.ipynb\" target=\"_parent\"><img src=\"https://colab.research.google.com/assets/colab-badge.svg\" alt=\"Open In Colab\"/></a>"
      ]
    },
    {
      "cell_type": "markdown",
      "metadata": {
        "colab_type": "text",
        "id": "aaVmDt1TEXdh"
      },
      "source": [
        "# Spark NLP\n"
      ]
    },
    {
      "cell_type": "markdown",
      "metadata": {
        "colab_type": "text",
        "id": "YkbpOBs6DasA"
      },
      "source": [
        "[![Open In Colab](https://colab.research.google.com/assets/colab-badge.svg)](https://colab.research.google.com/github/JohnSnowLabs/spark-nlp-workshop/blob/master/jupyter/quick_start_google_colab.ipynb)"
      ]
    },
    {
      "cell_type": "markdown",
      "metadata": {
        "colab_type": "text",
        "id": "XtCa0sZ8EXdj"
      },
      "source": [
        "The idea is to use Spark NLP ( https://github.com/JohnSnowLabs/spark-nlp ) to extract relationships between entities and their Part of Speech tags.\n",
        "1.\tFollow the instructions to install Spark NLP, either using Python 3 (Jupyter Notebook) or Scala 2.11. \n",
        "\n",
        "2.\tRead the given dataset using Spark\n",
        "\n",
        "3.\tCreate a Spark ML Pipeline using the following annotators (Use English pretrained models):\n",
        "a.\tDocumentAssembler\n",
        "b.\tTokenizer\n",
        "c.\tWordEmbeddingsModel (Word Embeddings, Glove)\n",
        "d.\tPerceptronModel (Part of Speech)\n",
        "e.\tNerCrfModel (Named Entity Recognition)\n",
        "\n",
        "4.\tPrint the transformed DataFrame showing only the POS column and the NER column. BONUS: Show only the result attribute of these Annotations\n",
        "\n",
        "5.\tCollect the result attribute of NER and POS, find a way to explain any relationship (if exists) between found entities and their part of speech attributes. \n",
        "\n",
        "Note: An Annotation column is an Array of Annotation objects. Annotation objects have the following scheme:\n",
        "Annotation(annotatorType, begin, end, result, metadata, embeddings, sentenceEmbeddings)\n",
        "More documentation here: https://nlp.johnsnowlabs.com/docs/en/annotators and examples can be found here: https://github.com/JohnSnowLabs/spark-nlp-workshop \n",
        "\n",
        "Basic Imports:\n",
        "\n",
        "from sparknlp.base import *\n",
        "\n",
        "from sparknlp.annotator import *\n",
        "\n",
        "from sparknlp.embeddings import *\n",
        "\n"
      ]
    },
    {
      "cell_type": "code",
      "metadata": {
        "colab_type": "code",
        "id": "tyMMD_upEfIa",
        "colab": {
          "base_uri": "https://localhost:8080/",
          "height": 289
        },
        "outputId": "b5c8ad2f-3807-4145-f627-af5d4f76dac7"
      },
      "source": [
        "import os\n",
        "\n",
        "# Install java\n",
        "! apt-get update -qq\n",
        "! apt-get install -y openjdk-8-jdk-headless -qq > /dev/null\n",
        "\n",
        "os.environ[\"JAVA_HOME\"] = \"/usr/lib/jvm/java-8-openjdk-amd64\"\n",
        "os.environ[\"PATH\"] = os.environ[\"JAVA_HOME\"] + \"/bin:\" + os.environ[\"PATH\"]\n",
        "! java -version\n",
        "\n",
        "# Install pyspark\n",
        "! pip install --ignore-installed pyspark==2.4.4\n",
        "\n",
        "# Install Spark NLP\n",
        "! pip install --ignore-installed spark-nlp\n",
        "\n",
        "# Install Spark NLP\n",
        "! pip install --ignore-installed johnsnowlabs\n"
      ],
      "execution_count": 1,
      "outputs": [
        {
          "output_type": "stream",
          "text": [
            "openjdk version \"1.8.0_265\"\n",
            "OpenJDK Runtime Environment (build 1.8.0_265-8u265-b01-0ubuntu2~18.04-b01)\n",
            "OpenJDK 64-Bit Server VM (build 25.265-b01, mixed mode)\n",
            "Processing /root/.cache/pip/wheels/ab/09/4d/0d184230058e654eb1b04467dbc1292f00eaa186544604b471/pyspark-2.4.4-py2.py3-none-any.whl\n",
            "Collecting py4j==0.10.7\n",
            "  Using cached https://files.pythonhosted.org/packages/e3/53/c737818eb9a7dc32a7cd4f1396e787bd94200c3997c72c1dbe028587bd76/py4j-0.10.7-py2.py3-none-any.whl\n",
            "Installing collected packages: py4j, pyspark\n",
            "Successfully installed py4j-0.10.7 pyspark-2.4.4\n",
            "Collecting spark-nlp\n",
            "  Using cached https://files.pythonhosted.org/packages/b5/a2/5c2e18a65784442ded6f6c58af175ca4d99649337de569fac55b04d7ed8e/spark_nlp-2.5.5-py2.py3-none-any.whl\n",
            "Installing collected packages: spark-nlp\n",
            "Successfully installed spark-nlp-2.5.5\n",
            "Collecting johnsnowlabs\n",
            "  Using cached https://files.pythonhosted.org/packages/bd/37/7f43644675194dd380792834e542bde61341a3d90392d8fc1253c3fd4679/johnsnowlabs-0.0.1-py3-none-any.whl\n",
            "Installing collected packages: johnsnowlabs\n",
            "Successfully installed johnsnowlabs-0.0.1\n"
          ],
          "name": "stdout"
        }
      ]
    },
    {
      "cell_type": "code",
      "metadata": {
        "colab_type": "code",
        "id": "5in-TmzGEXdk",
        "colab": {
          "base_uri": "https://localhost:8080/",
          "height": 69
        },
        "outputId": "da6801d4-5f57-4cb1-cbb7-a9ef32337895"
      },
      "source": [
        "import sparknlp\n",
        "spark = sparknlp.start()\n",
        "\n",
        "print(\"Spark NLP version\")\n",
        "sparknlp.version()\n",
        "print(\"Apache Spark version\")\n",
        "spark.version"
      ],
      "execution_count": 2,
      "outputs": [
        {
          "output_type": "stream",
          "text": [
            "Spark NLP version\n",
            "Apache Spark version\n"
          ],
          "name": "stdout"
        },
        {
          "output_type": "execute_result",
          "data": {
            "application/vnd.google.colaboratory.intrinsic+json": {
              "type": "string"
            },
            "text/plain": [
              "'2.4.4'"
            ]
          },
          "metadata": {
            "tags": []
          },
          "execution_count": 2
        }
      ]
    },
    {
      "cell_type": "code",
      "metadata": {
        "id": "r8HxpVVaimNI",
        "colab_type": "code",
        "colab": {
          "base_uri": "https://localhost:8080/",
          "height": 153
        },
        "outputId": "dc1c3ea9-7baf-4d3c-c2b2-40c07a3ac586"
      },
      "source": [
        "!rm -rf ./spark-demos\n",
        "!git clone https://github.com/hamed-abdelhaq/spark-demos.git"
      ],
      "execution_count": 3,
      "outputs": [
        {
          "output_type": "stream",
          "text": [
            "Cloning into 'spark-demos'...\n",
            "remote: Enumerating objects: 54, done.\u001b[K\n",
            "remote: Counting objects: 100% (54/54), done.\u001b[K\n",
            "remote: Compressing objects: 100% (42/42), done.\u001b[K\n",
            "remote: Total 729 (delta 4), reused 48 (delta 3), pack-reused 675\u001b[K\n",
            "Receiving objects: 100% (729/729), 431.66 MiB | 14.62 MiB/s, done.\n",
            "Resolving deltas: 100% (82/82), done.\n",
            "Checking out files: 100% (524/524), done.\n"
          ],
          "name": "stdout"
        }
      ]
    },
    {
      "cell_type": "code",
      "metadata": {
        "id": "sWHy2p5bnVCg",
        "colab_type": "code",
        "colab": {
          "base_uri": "https://localhost:8080/",
          "height": 238
        },
        "outputId": "08d76ff9-6309-442d-b8f6-8155a4df8b38"
      },
      "source": [
        "!ls ./spark-demos/data/spark_nlp_dataset.parquet"
      ],
      "execution_count": 4,
      "outputs": [
        {
          "output_type": "stream",
          "text": [
            "part-00000-b415d83b-aa0f-4f60-b33c-9c36d8cc6ac0-c000.snappy.parquet\n",
            "part-00001-b415d83b-aa0f-4f60-b33c-9c36d8cc6ac0-c000.snappy.parquet\n",
            "part-00002-b415d83b-aa0f-4f60-b33c-9c36d8cc6ac0-c000.snappy.parquet\n",
            "part-00003-b415d83b-aa0f-4f60-b33c-9c36d8cc6ac0-c000.snappy.parquet\n",
            "part-00004-b415d83b-aa0f-4f60-b33c-9c36d8cc6ac0-c000.snappy.parquet\n",
            "part-00005-b415d83b-aa0f-4f60-b33c-9c36d8cc6ac0-c000.snappy.parquet\n",
            "part-00006-b415d83b-aa0f-4f60-b33c-9c36d8cc6ac0-c000.snappy.parquet\n",
            "part-00007-b415d83b-aa0f-4f60-b33c-9c36d8cc6ac0-c000.snappy.parquet\n",
            "part-00008-b415d83b-aa0f-4f60-b33c-9c36d8cc6ac0-c000.snappy.parquet\n",
            "part-00009-b415d83b-aa0f-4f60-b33c-9c36d8cc6ac0-c000.snappy.parquet\n",
            "part-00010-b415d83b-aa0f-4f60-b33c-9c36d8cc6ac0-c000.snappy.parquet\n",
            "part-00011-b415d83b-aa0f-4f60-b33c-9c36d8cc6ac0-c000.snappy.parquet\n",
            "_SUCCESS\n"
          ],
          "name": "stdout"
        }
      ]
    },
    {
      "cell_type": "code",
      "metadata": {
        "id": "boCIqhxllh6V",
        "colab_type": "code",
        "colab": {}
      },
      "source": [
        "import numpy as np\n",
        "import pandas as pd\n",
        "import pyarrow.parquet as pq\n",
        "\n",
        "path = './spark-demos/data/spark_nlp_dataset.parquet'\n",
        "table = pq.read_table(path)\n",
        "df = table.to_pandas()"
      ],
      "execution_count": 5,
      "outputs": []
    },
    {
      "cell_type": "code",
      "metadata": {
        "id": "DCVMFK0G_MgL",
        "colab_type": "code",
        "colab": {
          "base_uri": "https://localhost:8080/",
          "height": 459
        },
        "outputId": "e37282b1-5a9c-44f1-99a1-941e91a2455a"
      },
      "source": [
        "import pyspark\n",
        "spark_df=spark.createDataFrame(df) \n",
        "spark_df.show()"
      ],
      "execution_count": 36,
      "outputs": [
        {
          "output_type": "stream",
          "text": [
            "+--------------------+\n",
            "|                text|\n",
            "+--------------------+\n",
            "|CRICKET - LEICEST...|\n",
            "|   LONDON 1996-08-30|\n",
            "|West Indian all-r...|\n",
            "|By the close York...|\n",
            "|Australian Tom Mo...|\n",
            "|After the frustra...|\n",
            "|CRICKET - ENGLISH...|\n",
            "|   LONDON 1996-08-30|\n",
            "|Result and close ...|\n",
            "|Somerset 83 and 1...|\n",
            "|Leicestershire 22...|\n",
            "|Chester-le-Street...|\n",
            "|London ( The Oval...|\n",
            "|Portsmouth : Midd...|\n",
            "|Bristol : Glouces...|\n",
            "|CRICKET - 1997 AS...|\n",
            "|a six-test series...|\n",
            "|Australia will al...|\n",
            "|The tourists will...|\n",
            "|as well as one-da...|\n",
            "+--------------------+\n",
            "only showing top 20 rows\n",
            "\n"
          ],
          "name": "stdout"
        }
      ]
    },
    {
      "cell_type": "markdown",
      "metadata": {
        "id": "fMMojVKxa0Vp",
        "colab_type": "text"
      },
      "source": [
        "# Try Pre-trained Model\n"
      ]
    },
    {
      "cell_type": "code",
      "metadata": {
        "id": "hIE1Pxr8HGjS",
        "colab_type": "code",
        "colab": {
          "base_uri": "https://localhost:8080/",
          "height": 119
        },
        "outputId": "ffc34dbe-f8f9-4063-ec3b-dd2ac31ceb7e"
      },
      "source": [
        "document = DocumentAssembler()\\\n",
        "    .setInputCol(\"text\")\\\n",
        "    .setOutputCol(\"document\")\n",
        "\n",
        "sentence = SentenceDetector()\\\n",
        "    .setInputCols(['document'])\\\n",
        "    .setOutputCol('sentence')\n",
        "\n",
        "token = Tokenizer()\\\n",
        "    .setInputCols(['sentence'])\\\n",
        "    .setOutputCol('token')\n",
        "\n",
        "bert = BertEmbeddings.pretrained('bert_base_cased', 'en') \\\n",
        " .setInputCols([\"sentence\",'token'])\\\n",
        " .setOutputCol(\"bert\")\\\n",
        " .setCaseSensitive(False)\n",
        "\n",
        "ner_dl = NerDLModel.pretrained('ner_crf')\n",
        "\n",
        "ner_prediction_pipeline = Pipeline(\n",
        "    stages = [\n",
        "        document,\n",
        "        sentence,\n",
        "        token,\n",
        "        bert,\n",
        "        ner_dl])"
      ],
      "execution_count": 57,
      "outputs": [
        {
          "output_type": "stream",
          "text": [
            "bert_base_cased download started this may take some time.\n",
            "Approximate size to download 389.2 MB\n",
            "[OK!]\n",
            "ner_crf download started this may take some time.\n",
            "Approximate size to download 10.1 MB\n",
            "[OK!]\n"
          ],
          "name": "stdout"
        }
      ]
    },
    {
      "cell_type": "code",
      "metadata": {
        "id": "b8mknV9TF0l6",
        "colab_type": "code",
        "colab": {}
      },
      "source": [
        "df_bert = ner_prediction_pipeline.fit(spark_df)"
      ],
      "execution_count": 62,
      "outputs": []
    },
    {
      "cell_type": "code",
      "metadata": {
        "id": "IhuhAU_5aXP3",
        "colab_type": "code",
        "colab": {
          "base_uri": "https://localhost:8080/",
          "height": 34
        },
        "outputId": "0c07c9ad-77cb-4069-be76-7ce448bbbbec"
      },
      "source": [
        "type(df_bert)"
      ],
      "execution_count": 63,
      "outputs": [
        {
          "output_type": "execute_result",
          "data": {
            "text/plain": [
              "pyspark.ml.pipeline.PipelineModel"
            ]
          },
          "metadata": {
            "tags": []
          },
          "execution_count": 63
        }
      ]
    },
    {
      "cell_type": "markdown",
      "metadata": {
        "id": "DgGGEaQlYCPD",
        "colab_type": "text"
      },
      "source": [
        "# Try Pre-trained pipeline\n",
        "\n",
        "\n"
      ]
    },
    {
      "cell_type": "code",
      "metadata": {
        "id": "NYYXLAc0H4qI",
        "colab_type": "code",
        "colab": {
          "base_uri": "https://localhost:8080/",
          "height": 68
        },
        "outputId": "5c82baf8-9058-4f86-cddd-b88bab3986f2"
      },
      "source": [
        "# Import Spark NLP            \n",
        "from sparknlp.base import *\n",
        "from sparknlp.annotator import *\n",
        "from sparknlp.pretrained import PretrainedPipeline\n",
        "import sparknlp\n",
        "\n",
        "\n",
        "pipeline = PretrainedPipeline('explain_document_dl', lang='en')\n",
        "\n",
        "# Your testing dataset\n",
        "text = \"\"\"\n",
        "The Mona Lisa is a 16th century oil painting created by Leonardo. \n",
        "It's held at the Louvre in Paris.\n",
        "\"\"\"\n",
        "\n",
        "# Annotate your testing dataset\n",
        "result = pipeline.annotate(text)\n"
      ],
      "execution_count": 43,
      "outputs": [
        {
          "output_type": "stream",
          "text": [
            "explain_document_dl download started this may take some time.\n",
            "Approx size to download 168.4 MB\n",
            "[OK!]\n"
          ],
          "name": "stdout"
        }
      ]
    },
    {
      "cell_type": "code",
      "metadata": {
        "id": "siTbUXd2Xzo6",
        "colab_type": "code",
        "colab": {
          "base_uri": "https://localhost:8080/",
          "height": 187
        },
        "outputId": "5267112c-a987-4410-c155-b1092a208096"
      },
      "source": [
        "# What's in the pipeline\n",
        "list(result.keys())"
      ],
      "execution_count": 46,
      "outputs": [
        {
          "output_type": "execute_result",
          "data": {
            "text/plain": [
              "['entities',\n",
              " 'stem',\n",
              " 'checked',\n",
              " 'lemma',\n",
              " 'document',\n",
              " 'pos',\n",
              " 'token',\n",
              " 'ner',\n",
              " 'embeddings',\n",
              " 'sentence']"
            ]
          },
          "metadata": {
            "tags": []
          },
          "execution_count": 46
        }
      ]
    },
    {
      "cell_type": "code",
      "metadata": {
        "id": "Fjqnh17EXux2",
        "colab_type": "code",
        "colab": {
          "base_uri": "https://localhost:8080/",
          "height": 34
        },
        "outputId": "f456366f-3be7-45f0-86de-905ff1d4947c"
      },
      "source": [
        "# Check the results\n",
        "result['entities']"
      ],
      "execution_count": 47,
      "outputs": [
        {
          "output_type": "execute_result",
          "data": {
            "text/plain": [
              "['Mona Lisa', 'Leonardo', 'Louvre', 'Paris']"
            ]
          },
          "metadata": {
            "tags": []
          },
          "execution_count": 47
        }
      ]
    }
  ]
}