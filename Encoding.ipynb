{
  "nbformat": 4,
  "nbformat_minor": 0,
  "metadata": {
    "colab": {
      "name": "Untitled8.ipynb",
      "provenance": [],
      "authorship_tag": "ABX9TyPKS+RoDwlj7qIDcChyo5j1",
      "include_colab_link": true
    },
    "kernelspec": {
      "name": "python3",
      "display_name": "Python 3"
    }
  },
  "cells": [
    {
      "cell_type": "markdown",
      "metadata": {
        "id": "view-in-github",
        "colab_type": "text"
      },
      "source": [
        "<a href=\"https://colab.research.google.com/github/mohammad0alfares/MachineLearningNotebooks/blob/master/Encoding.ipynb\" target=\"_parent\"><img src=\"https://colab.research.google.com/assets/colab-badge.svg\" alt=\"Open In Colab\"/></a>"
      ]
    },
    {
      "cell_type": "markdown",
      "metadata": {
        "id": "qF0Cu8b9EiaB",
        "colab_type": "text"
      },
      "source": [
        "**Categorical encoding using Label-Encoding and One-Hot-Encoder**\n",
        "\n",
        "\n",
        "“binarization” of the category\n",
        "\n",
        "\n",
        "---\n",
        "\n",
        "\n",
        "most of the algorithms work better with numerical inputs. Therefore, the main challenge faced by an analyst is to convert text/categorical data into numerical data and still make an algorithm/model to make sense out of it. Neural networks, which is a base of deep-learning, expects input values to be numerical.\n",
        "\n",
        "1.   Label Encoding\n",
        "*   Using category codes approach\n",
        "*   Using sci-kit learn library approach\n",
        "\n",
        "\n",
        "2.   One-Hot Encoder\n",
        "*   Using sci-kit learn library approach\n",
        "*   Using dummies values approach\n",
        "\n",
        "\n",
        "\n"
      ]
    },
    {
      "cell_type": "markdown",
      "metadata": {
        "id": "wmrKld7xIP9p",
        "colab_type": "text"
      },
      "source": [
        "**Label Encoding**"
      ]
    },
    {
      "cell_type": "code",
      "metadata": {
        "id": "mNJDAjvJEDoU",
        "colab_type": "code",
        "colab": {}
      },
      "source": [
        "# import required libraries\n",
        "import pandas as pd\n",
        "import numpy as np\n",
        "# creating initial dataframe\n",
        "bridge_types = ('Arch','Beam','Truss','Cantilever','Tied Arch','Suspension','Cable')\n",
        "bridge_df = pd.DataFrame(bridge_types, columns=['Bridge_Types'])\n",
        "# converting type of columns to 'category'\n",
        "bridge_df['Bridge_Types'] = bridge_df['Bridge_Types'].astype('category')\n",
        "# Assigning numerical values and storing in another column\n",
        "bridge_df['Bridge_Types_Cat'] = bridge_df['Bridge_Types'].cat.codes\n",
        "bridge_df"
      ],
      "execution_count": 0,
      "outputs": []
    },
    {
      "cell_type": "code",
      "metadata": {
        "id": "rVzNfdL_E-OO",
        "colab_type": "code",
        "colab": {}
      },
      "source": [
        "import pandas as pd\n",
        "import numpy as np\n",
        "from sklearn.preprocessing import LabelEncoder\n",
        "# creating initial dataframe\n",
        "bridge_types = ('Arch','Beam','Truss','Cantilever','Tied Arch','Suspension','Cable')\n",
        "bridge_df = pd.DataFrame(bridge_types, columns=['Bridge_Types'])\n",
        "# creating instance of labelencoder\n",
        "labelencoder = LabelEncoder()\n",
        "# Assigning numerical values and storing in another column\n",
        "bridge_df['Bridge_Types_Cat'] = labelencoder.fit_transform(bridge_df['Bridge_Types'])\n",
        "bridge_df"
      ],
      "execution_count": 0,
      "outputs": []
    },
    {
      "cell_type": "markdown",
      "metadata": {
        "id": "4rTgSXbdIVg9",
        "colab_type": "text"
      },
      "source": [
        "**One-Hot Encoder**"
      ]
    },
    {
      "cell_type": "code",
      "metadata": {
        "id": "MmI-X7HiEhgA",
        "colab_type": "code",
        "colab": {}
      },
      "source": [
        "import pandas as pd\n",
        "import numpy as np\n",
        "from sklearn.preprocessing import OneHotEncoder\n",
        "# creating instance of one-hot-encoder\n",
        "enc = OneHotEncoder(handle_unknown='ignore')\n",
        "# passing bridge-types-cat column (label encoded values of bridge_types)\n",
        "enc_df = pd.DataFrame(enc.fit_transform(bridge_df[['Bridge_Types_Cat']]).toarray())\n",
        "# merge with main df bridge_df on key values\n",
        "bridge_df = bridge_df.join(enc_df)\n",
        "bridge_df"
      ],
      "execution_count": 0,
      "outputs": []
    },
    {
      "cell_type": "code",
      "metadata": {
        "id": "Pkl7HXnoIb3x",
        "colab_type": "code",
        "colab": {}
      },
      "source": [
        "import pandas as pd\n",
        "import numpy as np\n",
        "# creating initial dataframe\n",
        "bridge_types = ('Arch','Beam','Truss','Cantilever','Tied Arch','Suspension','Cable')\n",
        "bridge_df = pd.DataFrame(bridge_types, columns=['Bridge_Types'])\n",
        "# generate binary values using get_dummies\n",
        "dum_df = pd.get_dummies(bridge_df, columns=[\"Bridge_Types\"], prefix=[\"Type_is\"] )\n",
        "# merge with main df bridge_df on key values\n",
        "bridge_df = bridge_df.join(dum_df)\n",
        "bridge_df"
      ],
      "execution_count": 0,
      "outputs": []
    },
    {
      "cell_type": "markdown",
      "metadata": {
        "id": "vDf04XdiHtwC",
        "colab_type": "text"
      },
      "source": [
        "https://www.youtube.com/watch?v=YOR6rQTTEAQ&feature=youtu.be"
      ]
    }
  ]
}