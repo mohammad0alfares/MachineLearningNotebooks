{
  "nbformat": 4,
  "nbformat_minor": 0,
  "metadata": {
    "colab": {
      "name": "Untitled9.ipynb",
      "provenance": [],
      "authorship_tag": "ABX9TyMY9swzH2xbbuMRLjwpYRlU",
      "include_colab_link": true
    },
    "kernelspec": {
      "name": "python3",
      "display_name": "Python 3"
    }
  },
  "cells": [
    {
      "cell_type": "markdown",
      "metadata": {
        "id": "view-in-github",
        "colab_type": "text"
      },
      "source": [
        "<a href=\"https://colab.research.google.com/github/mohammad0alfares/MachineLearningNotebooks/blob/master/diabetes.ipynb\" target=\"_parent\"><img src=\"https://colab.research.google.com/assets/colab-badge.svg\" alt=\"Open In Colab\"/></a>"
      ]
    },
    {
      "cell_type": "markdown",
      "metadata": {
        "id": "vdCbpgLOPHP3",
        "colab_type": "text"
      },
      "source": [
        "**Diabetes **"
      ]
    },
    {
      "cell_type": "code",
      "metadata": {
        "id": "eQcs6czZPFCQ",
        "colab_type": "code",
        "colab": {}
      },
      "source": [
        "import pandas as pd\n",
        "from sklearn import datasets, linear_model\n",
        "from sklearn.model_selection import train_test_split\n",
        "from matplotlib import pyplot as plt"
      ],
      "execution_count": 0,
      "outputs": []
    },
    {
      "cell_type": "code",
      "metadata": {
        "id": "ekNmObSJPNsr",
        "colab_type": "code",
        "colab": {}
      },
      "source": [
        "# Load the Diabetes dataset\n",
        "columns = 'age sex bmi map tc ldl hdl tch ltg glu'.split() # Declare the columns names\n",
        "diabetes = datasets.load_diabetes() # Call the diabetes dataset from sklearn\n",
        "df = pd.DataFrame(diabetes.data, columns=columns) # load the dataset as a pandas data frame\n",
        "y = diabetes.target # define the target variable (dependent variable) as y"
      ],
      "execution_count": 0,
      "outputs": []
    },
    {
      "cell_type": "code",
      "metadata": {
        "id": "_R_AkLmbTlOV",
        "colab_type": "code",
        "colab": {}
      },
      "source": [
        "df"
      ],
      "execution_count": 0,
      "outputs": []
    },
    {
      "cell_type": "code",
      "metadata": {
        "id": "_NrSp1UURDIO",
        "colab_type": "code",
        "colab": {
          "base_uri": "https://localhost:8080/",
          "height": 51
        },
        "outputId": "8bbdd98e-feae-473d-8bde-196ed91376d7"
      },
      "source": [
        "# create training and testing vars\n",
        "X_train, X_test, y_train, y_test = train_test_split(df, y, test_size=0.2)\n",
        "print (X_train.shape, y_train.shape)\n",
        "print (X_test.shape, y_test.shape)"
      ],
      "execution_count": 11,
      "outputs": [
        {
          "output_type": "stream",
          "text": [
            "(353, 10) (353,)\n",
            "(89, 10) (89,)\n"
          ],
          "name": "stdout"
        }
      ]
    },
    {
      "cell_type": "code",
      "metadata": {
        "id": "Cp7IJ7UIUGPr",
        "colab_type": "code",
        "colab": {}
      },
      "source": [
        "# fit a model\n",
        "lm = linear_model.LinearRegression()\n",
        "model = lm.fit(X_train, y_train)\n",
        "predictions = lm.predict(X_test)\n",
        "print(regm.coef_) ## print the coefficients\n",
        "print(regm.intercept_) ## print the intercept"
      ],
      "execution_count": 0,
      "outputs": []
    }
  ]
}